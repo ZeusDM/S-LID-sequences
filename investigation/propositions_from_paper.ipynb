{
 "cells": [
  {
   "cell_type": "code",
   "execution_count": 1,
   "id": "8527bb4d",
   "metadata": {},
   "outputs": [],
   "source": [
    "from pathlib import Path\n",
    "from config import storage\n",
    "\n",
    "def download(file):\n",
    "    with open(storage / file, \"r\") as f:\n",
    "        my_sequence = [int(line[:-1]) for line in f.readlines()]\n",
    "    return my_sequence\n",
    "\n",
    "def slid_download(S):\n",
    "    return download(slid_filename(S))\n",
    "\n",
    "# from computation/slid.py\n",
    "\n",
    "def slid_filename(S):\n",
    "    return Path(f\"slid_{'_'.join(str(i) for i in sorted(list(S)))}.txt\")"
   ]
  },
  {
   "cell_type": "markdown",
   "id": "353886d3",
   "metadata": {},
   "source": [
    "# The triangular quilt sequence"
   ]
  },
  {
   "cell_type": "markdown",
   "id": "5b6d892a",
   "metadata": {},
   "source": [
    "**Proposition.** Let $6 \\leq n \\leq 50$ be an integer.\n",
    "Then,\n",
    "\\begin{equation}\n",
    "    t_{n+1} = t_{n} + t_{n-5}\n",
    "\\end{equation}\n",
    "if, and only if, $n \\in \\{6, 8, 10, 12, 14, 16, 18, 20, 22, 24, 26, 31, 33, 35, 37, 39, 41, 43, 46, 48\\}$."
   ]
  },
  {
   "cell_type": "code",
   "execution_count": 2,
   "id": "b5d8d715",
   "metadata": {
    "scrolled": true
   },
   "outputs": [
    {
     "name": "stdout",
     "output_type": "stream",
     "text": [
      "{6, 8, 10, 12, 14, 16, 18, 20, 22, 24, 26, 31, 33, 35, 37, 39, 41, 43, 46, 48}\n"
     ]
    }
   ],
   "source": [
    "triangular_quilt = download(\"triangular_quilt.txt\")\n",
    "# Note that, because indexes in Python start at 0, triangular_quilt[i-1] = t_{i}.\n",
    "works = set()\n",
    "for n in range(6, 51): # i.e., range over 6 <= n <= 50\n",
    "    if triangular_quilt[n] == triangular_quilt[n-1] + triangular_quilt[n-6]: # i.e., t_{n+1} == t_{n} + t_{n-5}\n",
    "        works.add(n)\n",
    "print(works)"
   ]
  },
  {
   "cell_type": "markdown",
   "id": "70ea463c",
   "metadata": {},
   "source": [
    "# The $\\{3\\}$-LID sequence"
   ]
  },
  {
   "cell_type": "markdown",
   "id": "156eb147",
   "metadata": {},
   "source": [
    "**Proposition.** Let $4 \\leq n \\leq 34$ be an integer. Let $a_1, a_2, \\dots$ be the $\\{3\\}$-LID sequence. Then,\n",
    "\\begin{align}\n",
    "    a_{n+1} = a_{n} + a_{n-3}\n",
    "\\end{align}\n",
    "if, and only if, $n \\in \\{4, 5, 6, 7, 8, 10, 12, 15\\}$."
   ]
  },
  {
   "cell_type": "code",
   "execution_count": 3,
   "id": "f7db3ee4",
   "metadata": {},
   "outputs": [
    {
     "name": "stdout",
     "output_type": "stream",
     "text": [
      "{4, 5, 6, 7, 8, 10, 12, 15}\n"
     ]
    }
   ],
   "source": [
    "my_sequence = slid_download({3})\n",
    "# Note that, because indexes in Python start at 0, my_sequence[i-1] = a_{i}.\n",
    "works = set()\n",
    "for n in range(4, 35): # i.e., range over 6 <= n <= 34\n",
    "    if my_sequence[n] == my_sequence[n-1] + my_sequence[n-4]: # i.e., a_{n+1} == a_{n} + a_{n-3}\n",
    "        works.add(n)\n",
    "print(works)"
   ]
  },
  {
   "cell_type": "markdown",
   "id": "acf42e16",
   "metadata": {},
   "source": [
    "# Sets $[k] \\setminus \\{k-1\\}$"
   ]
  },
  {
   "cell_type": "markdown",
   "id": "4b850410",
   "metadata": {},
   "source": [
    "**Proposition.** Let $2 \\leq k \\leq 20$. Let $S = [k] \\setminus \\{k-1\\}$.\n",
    "Let $a_1, a_2, \\dots$ be the $S$-LID sequence. Then,\n",
    "\\begin{equation}\n",
    "    a_{n+1} = a_{n} + a_{n-k}\n",
    "\\end{equation}\n",
    "for all $k + 1 \\leq n \\leq 34$."
   ]
  },
  {
   "cell_type": "code",
   "execution_count": 4,
   "id": "2d945af8",
   "metadata": {},
   "outputs": [
    {
     "name": "stdout",
     "output_type": "stream",
     "text": [
      "for k =  2 the equation holds for all  3 <= n <= 39\n",
      "for k =  3 the equation holds for all  4 <= n <= 34\n",
      "for k =  4 the equation holds for all  5 <= n <= 53\n",
      "for k =  5 the equation holds for all  6 <= n <= 55\n",
      "for k =  6 the equation holds for all  7 <= n <= 56\n",
      "for k =  7 the equation holds for all  8 <= n <= 57\n",
      "for k =  8 the equation holds for all  9 <= n <= 51\n",
      "for k =  9 the equation holds for all 10 <= n <= 51\n",
      "for k = 10 the equation holds for all 11 <= n <= 51\n",
      "for k = 11 the equation holds for all 12 <= n <= 51\n",
      "for k = 12 the equation holds for all 13 <= n <= 51\n",
      "for k = 13 the equation holds for all 14 <= n <= 51\n",
      "for k = 14 the equation holds for all 15 <= n <= 51\n",
      "for k = 15 the equation holds for all 16 <= n <= 51\n",
      "for k = 16 the equation holds for all 17 <= n <= 51\n",
      "for k = 17 the equation holds for all 18 <= n <= 51\n",
      "for k = 18 the equation holds for all 19 <= n <= 51\n",
      "for k = 19 the equation holds for all 20 <= n <= 51\n",
      "for k = 20 the equation holds for all 21 <= n <= 51\n"
     ]
    }
   ],
   "source": [
    "for k in range(2, 21):\n",
    "    S = set(range(1, k+1)).difference({k-1})\n",
    "    my_sequence = slid_download(S)\n",
    "    not_work = set()\n",
    "    for index in range(k+1, len(my_sequence)): # i.e., range over k+1 <= n <= len(my_sequence) - 1\n",
    "        if my_sequence[index] != my_sequence[index-1] + my_sequence[index-k-1]: # i.e., a_{n+1} != a_{n} + a_{n-k}\n",
    "            not_work.add(index)\n",
    "    if not_work == set():\n",
    "        print(f\"for k = {k:2d} the equation holds for all {k+1:2d} <= n <= {len(my_sequence) - 1}\")\n",
    "    else:\n",
    "        print(f\"for k = {k:2d} the equation DOES NOT hold for some {k+1:2d} <= n <= {len(my_sequence) - 1}\")"
   ]
  },
  {
   "cell_type": "markdown",
   "id": "b8ad6fce",
   "metadata": {},
   "source": [
    "# Sets $[k] \\setminus \\{k-2\\}$"
   ]
  },
  {
   "cell_type": "markdown",
   "id": "7d8dde73",
   "metadata": {},
   "source": [
    "**Proposition.** Let $8 \\leq k \\leq 20$, $S=[k] \\setminus \\{k-2\\}$, and $a_1,a_2,\\dots$ be the $S$-LID sequence.\n",
    "Then,\n",
    "\\begin{equation}\n",
    "    a_{n+1} = a_{n} + a_{n-k}\n",
    "\\end{equation}\n",
    "for all $k + 2 \\leq n \\leq 51$."
   ]
  },
  {
   "cell_type": "code",
   "execution_count": 5,
   "id": "fad0231b",
   "metadata": {
    "scrolled": true
   },
   "outputs": [
    {
     "name": "stdout",
     "output_type": "stream",
     "text": [
      "for k =  3 the equation DOES NOT hold for n in [5, 8, 9, 10, 11, 12, 13, 14, 15, 16]\n",
      "for k =  4 the equation DOES NOT hold for n in [7, 11]\n",
      "for k =  5 the equation DOES NOT hold for n in [8, 9, 11, 28, 30, 32, 34, 35, 37, 38]\n",
      "for k =  6 the equation DOES NOT hold for n in [11, 14, 15, 18, 20, 21, 22, 23, 24, 25]\n",
      "for k =  7 the equation DOES NOT hold for n in [22, 23, 24, 26, 27, 28, 32, 35, 36, 37]\n",
      "for k =  8 the equation holds for all 10 <= n <= 62\n",
      "for k =  9 the equation holds for all 11 <= n <= 62\n",
      "for k = 10 the equation holds for all 12 <= n <= 62\n",
      "for k = 11 the equation holds for all 13 <= n <= 62\n",
      "for k = 12 the equation holds for all 14 <= n <= 62\n",
      "for k = 13 the equation holds for all 15 <= n <= 62\n",
      "for k = 14 the equation holds for all 16 <= n <= 62\n",
      "for k = 15 the equation holds for all 17 <= n <= 62\n",
      "for k = 16 the equation holds for all 18 <= n <= 62\n",
      "for k = 17 the equation holds for all 19 <= n <= 62\n",
      "for k = 18 the equation holds for all 20 <= n <= 62\n",
      "for k = 19 the equation holds for all 21 <= n <= 62\n",
      "for k = 20 the equation holds for all 22 <= n <= 51\n"
     ]
    }
   ],
   "source": [
    "for k in range(3, 21):\n",
    "    S = set(range(1, k+1)).difference({k-2})\n",
    "    my_sequence = slid_download(S)\n",
    "    not_work = []\n",
    "    for index in range(k+2, len(my_sequence)): # i.e., range over k+2 <= n <= len(my_sequence) - 1\n",
    "        if my_sequence[index] != my_sequence[index-1] + my_sequence[index-k-1]: # i.e., a_{n+1} != a_{n} + a_{n-k}\n",
    "            not_work.append(index)\n",
    "    if len(not_work) == 0:\n",
    "        print(f\"for k = {k:2d} the equation holds for all {k+2:2d} <= n <= {len(my_sequence) - 1}\")\n",
    "    else:\n",
    "        print(f\"for k = {k:2d} the equation DOES NOT hold for n in {not_work[:10]}\")"
   ]
  },
  {
   "cell_type": "markdown",
   "id": "d8cfc643",
   "metadata": {},
   "source": [
    "## The $\\{1, 3, 4\\}$-LID sequence\n",
    "**Proposition.** Let $a_1, a_2, \\dots$ be the $\\{1, 3, 4\\}$-LID sequence. Then,\n",
    "\\begin{equation}\n",
    "    a_{n+1} = a_{n} + a_{n-4}\n",
    "\\end{equation}\n",
    "for all $12 \\leq n \\leq 50$."
   ]
  },
  {
   "cell_type": "code",
   "execution_count": 6,
   "id": "4cc6be92",
   "metadata": {},
   "outputs": [
    {
     "name": "stdout",
     "output_type": "stream",
     "text": [
      "For 6 <= n <= 53, the equation does not work if, and only if, n in {11, 7}.\n"
     ]
    }
   ],
   "source": [
    "S = {1, 3, 4}\n",
    "my_sequence = slid_download(S)\n",
    "not_work = set()\n",
    "for index in range(6, len(my_sequence)): # i.e., range over 6 <= n <= len(my_sequence) - 1\n",
    "    if my_sequence[index] != my_sequence[index-1] + my_sequence[index-5]: # i.e., a_{n+1} != a_{n} + a_{n-4}\n",
    "        not_work.add(index)\n",
    "print(f\"For 6 <= n <= {len(my_sequence)-1}, the equation does not work if, and only if, n in {not_work}.\")"
   ]
  }
 ],
 "metadata": {
  "kernelspec": {
   "display_name": "Python 3 (ipykernel)",
   "language": "python",
   "name": "python3"
  },
  "language_info": {
   "codemirror_mode": {
    "name": "ipython",
    "version": 3
   },
   "file_extension": ".py",
   "mimetype": "text/x-python",
   "name": "python",
   "nbconvert_exporter": "python",
   "pygments_lexer": "ipython3",
   "version": "3.10.7"
  }
 },
 "nbformat": 4,
 "nbformat_minor": 5
}
